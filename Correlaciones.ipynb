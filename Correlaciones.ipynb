{
 "cells": [
  {
   "cell_type": "code",
   "execution_count": 21,
   "id": "ce1b07d6-1da5-447c-bb4e-34d5f0d47e17",
   "metadata": {},
   "outputs": [],
   "source": [
    "import pandas as pd"
   ]
  },
  {
   "cell_type": "code",
   "execution_count": 32,
   "id": "0be4e213-c753-4c29-b226-1f2247adb85b",
   "metadata": {},
   "outputs": [],
   "source": [
    "import matplotlib as plt"
   ]
  },
  {
   "cell_type": "code",
   "execution_count": 17,
   "id": "73111362-76da-4604-9215-fe2fefe08245",
   "metadata": {},
   "outputs": [],
   "source": [
    "import seaborn as sns"
   ]
  },
  {
   "cell_type": "code",
   "execution_count": 29,
   "id": "50520358-10de-4ac5-8a47-b16e68b19aad",
   "metadata": {},
   "outputs": [],
   "source": [
    "import numpy as np"
   ]
  },
  {
   "cell_type": "code",
   "execution_count": 4,
   "id": "c9065cea-d7b5-42f8-a53c-48fbbb009e58",
   "metadata": {},
   "outputs": [],
   "source": [
    "wh2018 = pd.read_csv('2018.csv')"
   ]
  },
  {
   "cell_type": "code",
   "execution_count": 5,
   "id": "640a72bf-dee4-40cf-8730-4b99e7f5065d",
   "metadata": {},
   "outputs": [
    {
     "data": {
      "text/html": [
       "<div>\n",
       "<style scoped>\n",
       "    .dataframe tbody tr th:only-of-type {\n",
       "        vertical-align: middle;\n",
       "    }\n",
       "\n",
       "    .dataframe tbody tr th {\n",
       "        vertical-align: top;\n",
       "    }\n",
       "\n",
       "    .dataframe thead th {\n",
       "        text-align: right;\n",
       "    }\n",
       "</style>\n",
       "<table border=\"1\" class=\"dataframe\">\n",
       "  <thead>\n",
       "    <tr style=\"text-align: right;\">\n",
       "      <th></th>\n",
       "      <th>Overall rank</th>\n",
       "      <th>Country or region</th>\n",
       "      <th>Score</th>\n",
       "      <th>GDP per capita</th>\n",
       "      <th>Social support</th>\n",
       "      <th>Healthy life expectancy</th>\n",
       "      <th>Freedom to make life choices</th>\n",
       "      <th>Generosity</th>\n",
       "      <th>Perceptions of corruption</th>\n",
       "    </tr>\n",
       "  </thead>\n",
       "  <tbody>\n",
       "    <tr>\n",
       "      <th>0</th>\n",
       "      <td>1</td>\n",
       "      <td>Finland</td>\n",
       "      <td>7.632</td>\n",
       "      <td>1.305</td>\n",
       "      <td>1.592</td>\n",
       "      <td>0.874</td>\n",
       "      <td>0.681</td>\n",
       "      <td>0.202</td>\n",
       "      <td>0.393</td>\n",
       "    </tr>\n",
       "    <tr>\n",
       "      <th>1</th>\n",
       "      <td>2</td>\n",
       "      <td>Norway</td>\n",
       "      <td>7.594</td>\n",
       "      <td>1.456</td>\n",
       "      <td>1.582</td>\n",
       "      <td>0.861</td>\n",
       "      <td>0.686</td>\n",
       "      <td>0.286</td>\n",
       "      <td>0.340</td>\n",
       "    </tr>\n",
       "    <tr>\n",
       "      <th>2</th>\n",
       "      <td>3</td>\n",
       "      <td>Denmark</td>\n",
       "      <td>7.555</td>\n",
       "      <td>1.351</td>\n",
       "      <td>1.590</td>\n",
       "      <td>0.868</td>\n",
       "      <td>0.683</td>\n",
       "      <td>0.284</td>\n",
       "      <td>0.408</td>\n",
       "    </tr>\n",
       "    <tr>\n",
       "      <th>3</th>\n",
       "      <td>4</td>\n",
       "      <td>Iceland</td>\n",
       "      <td>7.495</td>\n",
       "      <td>1.343</td>\n",
       "      <td>1.644</td>\n",
       "      <td>0.914</td>\n",
       "      <td>0.677</td>\n",
       "      <td>0.353</td>\n",
       "      <td>0.138</td>\n",
       "    </tr>\n",
       "    <tr>\n",
       "      <th>4</th>\n",
       "      <td>5</td>\n",
       "      <td>Switzerland</td>\n",
       "      <td>7.487</td>\n",
       "      <td>1.420</td>\n",
       "      <td>1.549</td>\n",
       "      <td>0.927</td>\n",
       "      <td>0.660</td>\n",
       "      <td>0.256</td>\n",
       "      <td>0.357</td>\n",
       "    </tr>\n",
       "    <tr>\n",
       "      <th>...</th>\n",
       "      <td>...</td>\n",
       "      <td>...</td>\n",
       "      <td>...</td>\n",
       "      <td>...</td>\n",
       "      <td>...</td>\n",
       "      <td>...</td>\n",
       "      <td>...</td>\n",
       "      <td>...</td>\n",
       "      <td>...</td>\n",
       "    </tr>\n",
       "    <tr>\n",
       "      <th>151</th>\n",
       "      <td>152</td>\n",
       "      <td>Yemen</td>\n",
       "      <td>3.355</td>\n",
       "      <td>0.442</td>\n",
       "      <td>1.073</td>\n",
       "      <td>0.343</td>\n",
       "      <td>0.244</td>\n",
       "      <td>0.083</td>\n",
       "      <td>0.064</td>\n",
       "    </tr>\n",
       "    <tr>\n",
       "      <th>152</th>\n",
       "      <td>153</td>\n",
       "      <td>Tanzania</td>\n",
       "      <td>3.303</td>\n",
       "      <td>0.455</td>\n",
       "      <td>0.991</td>\n",
       "      <td>0.381</td>\n",
       "      <td>0.481</td>\n",
       "      <td>0.270</td>\n",
       "      <td>0.097</td>\n",
       "    </tr>\n",
       "    <tr>\n",
       "      <th>153</th>\n",
       "      <td>154</td>\n",
       "      <td>South Sudan</td>\n",
       "      <td>3.254</td>\n",
       "      <td>0.337</td>\n",
       "      <td>0.608</td>\n",
       "      <td>0.177</td>\n",
       "      <td>0.112</td>\n",
       "      <td>0.224</td>\n",
       "      <td>0.106</td>\n",
       "    </tr>\n",
       "    <tr>\n",
       "      <th>154</th>\n",
       "      <td>155</td>\n",
       "      <td>Central African Republic</td>\n",
       "      <td>3.083</td>\n",
       "      <td>0.024</td>\n",
       "      <td>0.000</td>\n",
       "      <td>0.010</td>\n",
       "      <td>0.305</td>\n",
       "      <td>0.218</td>\n",
       "      <td>0.038</td>\n",
       "    </tr>\n",
       "    <tr>\n",
       "      <th>155</th>\n",
       "      <td>156</td>\n",
       "      <td>Burundi</td>\n",
       "      <td>2.905</td>\n",
       "      <td>0.091</td>\n",
       "      <td>0.627</td>\n",
       "      <td>0.145</td>\n",
       "      <td>0.065</td>\n",
       "      <td>0.149</td>\n",
       "      <td>0.076</td>\n",
       "    </tr>\n",
       "  </tbody>\n",
       "</table>\n",
       "<p>156 rows × 9 columns</p>\n",
       "</div>"
      ],
      "text/plain": [
       "     Overall rank         Country or region  Score  GDP per capita  \\\n",
       "0               1                   Finland  7.632           1.305   \n",
       "1               2                    Norway  7.594           1.456   \n",
       "2               3                   Denmark  7.555           1.351   \n",
       "3               4                   Iceland  7.495           1.343   \n",
       "4               5               Switzerland  7.487           1.420   \n",
       "..            ...                       ...    ...             ...   \n",
       "151           152                     Yemen  3.355           0.442   \n",
       "152           153                  Tanzania  3.303           0.455   \n",
       "153           154               South Sudan  3.254           0.337   \n",
       "154           155  Central African Republic  3.083           0.024   \n",
       "155           156                   Burundi  2.905           0.091   \n",
       "\n",
       "     Social support  Healthy life expectancy  Freedom to make life choices  \\\n",
       "0             1.592                    0.874                         0.681   \n",
       "1             1.582                    0.861                         0.686   \n",
       "2             1.590                    0.868                         0.683   \n",
       "3             1.644                    0.914                         0.677   \n",
       "4             1.549                    0.927                         0.660   \n",
       "..              ...                      ...                           ...   \n",
       "151           1.073                    0.343                         0.244   \n",
       "152           0.991                    0.381                         0.481   \n",
       "153           0.608                    0.177                         0.112   \n",
       "154           0.000                    0.010                         0.305   \n",
       "155           0.627                    0.145                         0.065   \n",
       "\n",
       "     Generosity  Perceptions of corruption  \n",
       "0         0.202                      0.393  \n",
       "1         0.286                      0.340  \n",
       "2         0.284                      0.408  \n",
       "3         0.353                      0.138  \n",
       "4         0.256                      0.357  \n",
       "..          ...                        ...  \n",
       "151       0.083                      0.064  \n",
       "152       0.270                      0.097  \n",
       "153       0.224                      0.106  \n",
       "154       0.218                      0.038  \n",
       "155       0.149                      0.076  \n",
       "\n",
       "[156 rows x 9 columns]"
      ]
     },
     "execution_count": 5,
     "metadata": {},
     "output_type": "execute_result"
    }
   ],
   "source": [
    "wh2018"
   ]
  },
  {
   "cell_type": "code",
   "execution_count": 6,
   "id": "9282dd3f-0d27-49a5-ab16-da5fa12e5827",
   "metadata": {},
   "outputs": [
    {
     "data": {
      "text/plain": [
       "Index(['Overall rank', 'Country or region', 'Score', 'GDP per capita',\n",
       "       'Social support', 'Healthy life expectancy',\n",
       "       'Freedom to make life choices', 'Generosity',\n",
       "       'Perceptions of corruption'],\n",
       "      dtype='object')"
      ]
     },
     "execution_count": 6,
     "metadata": {},
     "output_type": "execute_result"
    }
   ],
   "source": [
    "wh2018.columns"
   ]
  },
  {
   "cell_type": "markdown",
   "id": "3d9a8669-7a01-425d-811a-a0ff7dc0024f",
   "metadata": {},
   "source": [
    "#Overall rank y Country or region no aportarian nada "
   ]
  },
  {
   "cell_type": "code",
   "execution_count": 24,
   "id": "ef3efa75-10c8-4164-bc14-91ebf8ce85bf",
   "metadata": {},
   "outputs": [],
   "source": [
    "to_use = ['Score', 'GDP per capita',\n",
    "       'Social support', 'Healthy life expectancy',\n",
    "       'Freedom to make life choices', 'Generosity',\n",
    "       'Perceptions of corruption']"
   ]
  },
  {
   "cell_type": "code",
   "execution_count": 27,
   "id": "b8198318-e442-40eb-a68b-d8f80089dcdb",
   "metadata": {},
   "outputs": [],
   "source": [
    "cor = wh2018.loc [: , to_use].corr()"
   ]
  },
  {
   "cell_type": "code",
   "execution_count": 33,
   "id": "916a6d12-9037-4670-ad36-9b524789a9a2",
   "metadata": {},
   "outputs": [
    {
     "ename": "AttributeError",
     "evalue": "module 'matplotlib' has no attribute 'matshow'",
     "output_type": "error",
     "traceback": [
      "\u001b[1;31m---------------------------------------------------------------------------\u001b[0m",
      "\u001b[1;31mAttributeError\u001b[0m                            Traceback (most recent call last)",
      "\u001b[1;32m~\\AppData\\Local\\Temp/ipykernel_6508/613700124.py\u001b[0m in \u001b[0;36m<module>\u001b[1;34m\u001b[0m\n\u001b[1;32m----> 1\u001b[1;33m \u001b[0mplt\u001b[0m\u001b[1;33m.\u001b[0m\u001b[0mmatshow\u001b[0m\u001b[1;33m(\u001b[0m\u001b[1;33m)\u001b[0m\u001b[1;33m\u001b[0m\u001b[1;33m\u001b[0m\u001b[0m\n\u001b[0m",
      "\u001b[1;31mAttributeError\u001b[0m: module 'matplotlib' has no attribute 'matshow'"
     ]
    }
   ],
   "source": [
    "plt.matshow()"
   ]
  },
  {
   "cell_type": "code",
   "execution_count": 38,
   "id": "f52afea4-dadf-4297-aada-f65c4b7ec46c",
   "metadata": {},
   "outputs": [
    {
     "ename": "AttributeError",
     "evalue": "module 'matplotlib' has no attribute 'subplots'",
     "output_type": "error",
     "traceback": [
      "\u001b[1;31m---------------------------------------------------------------------------\u001b[0m",
      "\u001b[1;31mAttributeError\u001b[0m                            Traceback (most recent call last)",
      "\u001b[1;32m~\\AppData\\Local\\Temp/ipykernel_6508/3736214330.py\u001b[0m in \u001b[0;36m<module>\u001b[1;34m\u001b[0m\n\u001b[1;32m----> 1\u001b[1;33m \u001b[0mf\u001b[0m\u001b[1;33m,\u001b[0m \u001b[0max\u001b[0m \u001b[1;33m=\u001b[0m \u001b[0mplt\u001b[0m\u001b[1;33m.\u001b[0m\u001b[0msubplots\u001b[0m\u001b[1;33m(\u001b[0m\u001b[0mfigsize\u001b[0m\u001b[1;33m=\u001b[0m\u001b[1;33m(\u001b[0m\u001b[1;36m10\u001b[0m\u001b[1;33m,\u001b[0m\u001b[1;36m8\u001b[0m\u001b[1;33m)\u001b[0m\u001b[1;33m)\u001b[0m\u001b[1;33m\u001b[0m\u001b[1;33m\u001b[0m\u001b[0m\n\u001b[0m\u001b[0;32m      2\u001b[0m \u001b[1;33m\u001b[0m\u001b[0m\n\u001b[0;32m      3\u001b[0m sns.heatmap(cor, mask=np.zeros_like(cor, dtype=np.bool), cmap=sns.diverging_palette(220, 10, as_cmap=True),\n\u001b[0;32m      4\u001b[0m            square=True, ax=ax)\n",
      "\u001b[1;31mAttributeError\u001b[0m: module 'matplotlib' has no attribute 'subplots'"
     ]
    }
   ],
   "source": [
    "f, ax = plt.subplots(figsize=(10,8))\n",
    "\n",
    "sns.heatmap(cor, mask=np.zeros_like(cor, dtype=np.bool), cmap=sns.diverging_palette(220, 10, as_cmap=True),\n",
    "           square=True, ax=ax)"
   ]
  },
  {
   "cell_type": "markdown",
   "id": "3a1d9f76-44ba-400a-b2e6-ff1c49559529",
   "metadata": {},
   "source": [
    "Por alguna razón que no logré solucionar me dice que la librería "
   ]
  },
  {
   "cell_type": "code",
   "execution_count": null,
   "id": "9cc4cc6e-093a-4149-8348-75ccf7f5bb06",
   "metadata": {},
   "outputs": [],
   "source": []
  }
 ],
 "metadata": {
  "kernelspec": {
   "display_name": "Python 3 (ipykernel)",
   "language": "python",
   "name": "python3"
  },
  "language_info": {
   "codemirror_mode": {
    "name": "ipython",
    "version": 3
   },
   "file_extension": ".py",
   "mimetype": "text/x-python",
   "name": "python",
   "nbconvert_exporter": "python",
   "pygments_lexer": "ipython3",
   "version": "3.9.7"
  }
 },
 "nbformat": 4,
 "nbformat_minor": 5
}
